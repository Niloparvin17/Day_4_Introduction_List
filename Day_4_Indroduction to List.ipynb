{
 "cells": [
  {
   "cell_type": "code",
   "execution_count": null,
   "id": "2adb971b",
   "metadata": {},
   "outputs": [],
   "source": [
    "# List :It is collection of items declared in a perticular order."
   ]
  },
  {
   "cell_type": "code",
   "execution_count": 1,
   "id": "b13468ec",
   "metadata": {},
   "outputs": [
    {
     "name": "stdout",
     "output_type": "stream",
     "text": [
      "['Amit', 'palavi', 'mansi', 'radhika']\n"
     ]
    }
   ],
   "source": [
    "# Declare a List\n",
    "\n",
    "students=['Amit','palavi','mansi','radhika']\n",
    "print(students)"
   ]
  },
  {
   "cell_type": "code",
   "execution_count": 3,
   "id": "41d8d894",
   "metadata": {},
   "outputs": [
    {
     "data": {
      "text/plain": [
       "list"
      ]
     },
     "execution_count": 3,
     "metadata": {},
     "output_type": "execute_result"
    }
   ],
   "source": [
    "# to display the type\n",
    "type(students)  "
   ]
  },
  {
   "cell_type": "code",
   "execution_count": 4,
   "id": "65923805",
   "metadata": {},
   "outputs": [
    {
     "name": "stdout",
     "output_type": "stream",
     "text": [
      "palavi\n"
     ]
    }
   ],
   "source": [
    "# to access a name from perticular index.Indexing starts from 0,1,2,....\n",
    "\n",
    "print(students[1])\n"
   ]
  },
  {
   "cell_type": "code",
   "execution_count": null,
   "id": "644b4e97",
   "metadata": {},
   "outputs": [],
   "source": [
    "# To Add an element to a List"
   ]
  },
  {
   "cell_type": "code",
   "execution_count": 18,
   "id": "2b40db3a",
   "metadata": {},
   "outputs": [
    {
     "name": "stdout",
     "output_type": "stream",
     "text": [
      "['Amit', 'palavi', 'mansi', 'radhika']\n",
      "\n",
      " After Appending List is : \n",
      "\n",
      " ['Amit', 'palavi', 'mansi', 'radhika', 'nilofar']\n"
     ]
    }
   ],
   "source": [
    "print(students)\n",
    "students.append('nilofar')\n",
    "print('\\n After Appending List is : \\n\\n',students)\n",
    "\n"
   ]
  },
  {
   "cell_type": "code",
   "execution_count": 19,
   "id": "f52fef66",
   "metadata": {},
   "outputs": [
    {
     "name": "stdout",
     "output_type": "stream",
     "text": [
      "['Amit', 'palavi', 'mansi', 'radhika', 'nilofar']\n",
      "\n",
      " After Appending List is : \n",
      "\n",
      " ['Amit', 'palavi', 'mansi', 'radhika', 'nilofar', 'kunal']\n"
     ]
    }
   ],
   "source": [
    "print(students)\n",
    "\n",
    "students.append('kunal')\n",
    "print('\\n After Appending List is : \\n\\n',students)"
   ]
  },
  {
   "cell_type": "code",
   "execution_count": null,
   "id": "007620ac",
   "metadata": {},
   "outputs": [],
   "source": [
    "#accessing any element from list by position /indexing"
   ]
  },
  {
   "cell_type": "code",
   "execution_count": 22,
   "id": "d972df3f",
   "metadata": {},
   "outputs": [
    {
     "name": "stdout",
     "output_type": "stream",
     "text": [
      "Element at position 1 is  palavi\n"
     ]
    }
   ],
   "source": [
    "print(\"Element at position 1 is \",students[1])"
   ]
  },
  {
   "cell_type": "code",
   "execution_count": 23,
   "id": "84ed5179",
   "metadata": {},
   "outputs": [
    {
     "name": "stdout",
     "output_type": "stream",
     "text": [
      "Element at position 1 is  Palavi\n"
     ]
    }
   ],
   "source": [
    "print(\"Element at position 1 is \",students[1].title())"
   ]
  },
  {
   "cell_type": "code",
   "execution_count": null,
   "id": "12ecf1ab",
   "metadata": {},
   "outputs": [],
   "source": [
    "# Adding an element to a pertilular position"
   ]
  },
  {
   "cell_type": "code",
   "execution_count": 24,
   "id": "ee7f6b97",
   "metadata": {},
   "outputs": [
    {
     "name": "stdout",
     "output_type": "stream",
     "text": [
      "['Amit', 'palavi', 'mansi', 'radhika', 'nilofar', 'kunal']\n",
      "\n",
      "\n",
      " student list After insert \n",
      "\n",
      " ['Amit', 'palavi', 'mansi', 'Jayashree', 'radhika', 'nilofar', 'kunal']\n"
     ]
    }
   ],
   "source": [
    "print(students)\n",
    "students.insert(3,'Jayashree')\n",
    "print(\"\\n\\n student list After insert \\n\\n\",students)"
   ]
  },
  {
   "cell_type": "code",
   "execution_count": 25,
   "id": "c4717b9f",
   "metadata": {},
   "outputs": [
    {
     "name": "stdout",
     "output_type": "stream",
     "text": [
      "Jayashree\n"
     ]
    }
   ],
   "source": [
    "print(students[3].title())\n"
   ]
  },
  {
   "cell_type": "code",
   "execution_count": null,
   "id": "15a538ff",
   "metadata": {},
   "outputs": [],
   "source": [
    "# Edit /Alter an element in the list from the perticular position."
   ]
  },
  {
   "cell_type": "code",
   "execution_count": 32,
   "id": "5d6119ff",
   "metadata": {},
   "outputs": [
    {
     "name": "stdout",
     "output_type": "stream",
     "text": [
      "['Amit', 'palavi', 'mansi', 'Jayashree', 'radhika']\n",
      "\n",
      "\n",
      " After Edit \n",
      "\n",
      " ['Ahhad', 'palavi', 'mansi', 'Jayashree', 'radhika']\n"
     ]
    }
   ],
   "source": [
    "print(students)\n",
    "students[0]='Ahhad'\n",
    "print(\"\\n\\n After Edit \\n\\n\",students)"
   ]
  },
  {
   "cell_type": "code",
   "execution_count": null,
   "id": "73772a1a",
   "metadata": {},
   "outputs": [],
   "source": [
    "#Delete an element from the list\n",
    "# 1) pop() method -Temporary deleting.\n",
    "# Elements are deleted from last."
   ]
  },
  {
   "cell_type": "code",
   "execution_count": 33,
   "id": "6db4ef12",
   "metadata": {},
   "outputs": [
    {
     "name": "stdout",
     "output_type": "stream",
     "text": [
      "['Ahhad', 'palavi', 'mansi', 'Jayashree']\n"
     ]
    }
   ],
   "source": [
    "students.pop()\n",
    "print(students)"
   ]
  },
  {
   "cell_type": "code",
   "execution_count": 34,
   "id": "c02805b8",
   "metadata": {},
   "outputs": [
    {
     "name": "stdout",
     "output_type": "stream",
     "text": [
      "Jayashree\n"
     ]
    }
   ],
   "source": [
    "x=students.pop()\n",
    "print(x)"
   ]
  },
  {
   "cell_type": "code",
   "execution_count": 35,
   "id": "d66a03b9",
   "metadata": {},
   "outputs": [
    {
     "name": "stdout",
     "output_type": "stream",
     "text": [
      "['Ahhad', 'palavi']\n"
     ]
    }
   ],
   "source": [
    "# deleting an perticular element from list.\n",
    "\n",
    "students.pop(2)\n",
    "print(students)"
   ]
  },
  {
   "cell_type": "code",
   "execution_count": 36,
   "id": "c010d034",
   "metadata": {},
   "outputs": [
    {
     "name": "stdout",
     "output_type": "stream",
     "text": [
      "['Ahhad', 'palavi']\n"
     ]
    }
   ],
   "source": [
    "print(students)"
   ]
  },
  {
   "cell_type": "code",
   "execution_count": 37,
   "id": "c8279273",
   "metadata": {},
   "outputs": [],
   "source": [
    "students.append('sara')"
   ]
  },
  {
   "cell_type": "code",
   "execution_count": 39,
   "id": "c050cc38",
   "metadata": {},
   "outputs": [
    {
     "name": "stdout",
     "output_type": "stream",
     "text": [
      "['Ahhad', 'palavi', 'sara', 'kunal']\n"
     ]
    }
   ],
   "source": [
    "students.append('kunal')\n",
    "print(students)"
   ]
  },
  {
   "cell_type": "code",
   "execution_count": null,
   "id": "a473abb3",
   "metadata": {},
   "outputs": [],
   "source": [
    "# To delete sara from list"
   ]
  },
  {
   "cell_type": "code",
   "execution_count": 40,
   "id": "f723eb87",
   "metadata": {},
   "outputs": [
    {
     "name": "stdout",
     "output_type": "stream",
     "text": [
      "['Ahhad', 'palavi', 'kunal']\n"
     ]
    }
   ],
   "source": [
    "del students[2]\n",
    "print(students)"
   ]
  },
  {
   "cell_type": "code",
   "execution_count": null,
   "id": "2dcd0453",
   "metadata": {},
   "outputs": [],
   "source": []
  }
 ],
 "metadata": {
  "kernelspec": {
   "display_name": "Python 3 (ipykernel)",
   "language": "python",
   "name": "python3"
  },
  "language_info": {
   "codemirror_mode": {
    "name": "ipython",
    "version": 3
   },
   "file_extension": ".py",
   "mimetype": "text/x-python",
   "name": "python",
   "nbconvert_exporter": "python",
   "pygments_lexer": "ipython3",
   "version": "3.11.3"
  }
 },
 "nbformat": 4,
 "nbformat_minor": 5
}
